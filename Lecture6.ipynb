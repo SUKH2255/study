{
  "nbformat": 4,
  "nbformat_minor": 0,
  "metadata": {
    "colab": {
      "provenance": [],
      "authorship_tag": "ABX9TyNlHjaio3/qvgxvHRGw/XL9",
      "include_colab_link": true
    },
    "kernelspec": {
      "name": "python3",
      "display_name": "Python 3"
    },
    "language_info": {
      "name": "python"
    }
  },
  "cells": [
    {
      "cell_type": "markdown",
      "metadata": {
        "id": "view-in-github",
        "colab_type": "text"
      },
      "source": [
        "<a href=\"https://colab.research.google.com/github/SUKH2255/study/blob/master/Lecture6.ipynb\" target=\"_parent\"><img src=\"https://colab.research.google.com/assets/colab-badge.svg\" alt=\"Open In Colab\"/></a>"
      ]
    },
    {
      "cell_type": "code",
      "execution_count": null,
      "metadata": {
        "colab": {
          "base_uri": "https://localhost:8080/"
        },
        "id": "o7cFxRVIoScG",
        "outputId": "386acc48-45e5-4e7f-b697-bd9c9ba27f3b"
      },
      "outputs": [
        {
          "output_type": "stream",
          "name": "stdout",
          "text": [
            "a\n",
            "n\n"
          ]
        }
      ],
      "source": [
        "fruit= 'banana'\n",
        "letter= fruit[1]\n",
        "print(letter)\n",
        "\n",
        "x= 3\n",
        "w= fruit[x-1]\n",
        "print(w)"
      ]
    },
    {
      "cell_type": "code",
      "source": [
        "fruit = 'banana'\n",
        "x = len(fruit)\n",
        "print(x)"
      ],
      "metadata": {
        "colab": {
          "base_uri": "https://localhost:8080/"
        },
        "id": "szyKH-lzqQLc",
        "outputId": "2253d713-5c47-4454-f69c-3583d72eab7f"
      },
      "execution_count": null,
      "outputs": [
        {
          "output_type": "stream",
          "name": "stdout",
          "text": [
            "6\n"
          ]
        }
      ]
    },
    {
      "cell_type": "code",
      "source": [
        "fruit = 'banana'\n",
        "index= 0\n",
        "whileindex< len(fruit):\n",
        "letter= fruit[index]\n",
        "print(index, letter)\n",
        "index= index+1"
      ],
      "metadata": {
        "id": "7MjLI3DYqZgS"
      },
      "execution_count": null,
      "outputs": []
    },
    {
      "cell_type": "code",
      "source": [
        "fruit = 'banana'\n",
        "for letter in fruit:\n",
        " print(letter)\n",
        " index= 0\n",
        "whileindex< len(fruit) :\n",
        "letter= fruit[index]\n",
        "print(letter)\n",
        "index= index+1"
      ],
      "metadata": {
        "id": "4TrGkz8TqbtZ"
      },
      "execution_count": null,
      "outputs": []
    },
    {
      "cell_type": "code",
      "source": [
        "word = 'banana'\n",
        "count = 0\n",
        "for letter in word :\n",
        " if letter == 'a' :\n",
        "  count = count + 1\n",
        "print(count)"
      ],
      "metadata": {
        "colab": {
          "base_uri": "https://localhost:8080/"
        },
        "id": "fZgF81aizViq",
        "outputId": "096e9e74-cd87-4d33-d1b8-d6cb584c0ca1"
      },
      "execution_count": null,
      "outputs": [
        {
          "output_type": "stream",
          "name": "stdout",
          "text": [
            "3\n"
          ]
        }
      ]
    },
    {
      "cell_type": "code",
      "source": [
        "if word=='banana':\n",
        " print('All right, bananas.')\n",
        "if word<'banana':\n",
        " print('Your word,'+word+', comes before banana.')\n",
        "elifword>'banana':\n",
        "print('Your word,'+word+', comes after banana.')\n",
        "else:\n",
        "print('All right, bananas.')"
      ],
      "metadata": {
        "id": "ru0b_9KuCBWE"
      },
      "execution_count": null,
      "outputs": []
    },
    {
      "cell_type": "code",
      "source": [
        "line = 'Please have a nice day'\n",
        "line.startswith('Please')\n",
        "True\n",
        "line.startswith('p')"
      ],
      "metadata": {
        "id": "aDJ8wt-jCT5b"
      },
      "execution_count": null,
      "outputs": []
    },
    {
      "cell_type": "code",
      "source": [
        "greet=' Hello Bob '\n",
        "greet.lstrip()\n",
        "'Hello Bob '\n",
        "greet.rstrip()\n",
        "' Hello Bob'\n",
        "greet.strip()"
      ],
      "metadata": {
        "id": "fvzGVsu1Cbyq"
      },
      "execution_count": null,
      "outputs": []
    },
    {
      "cell_type": "code",
      "source": [
        "greet = 'Hello Bob'\n",
        "nstr= greet.replace('Bob','Jane')\n",
        "print(nstr)\n",
        "nstr= greet.replace('o','X')\n",
        "print(nstr)"
      ],
      "metadata": {
        "id": "KK5mG1TACjej"
      },
      "execution_count": null,
      "outputs": []
    }
  ]
}