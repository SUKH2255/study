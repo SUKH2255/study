{
  "nbformat": 4,
  "nbformat_minor": 0,
  "metadata": {
    "colab": {
      "provenance": [],
      "authorship_tag": "ABX9TyMwhixfrNofYq7lIiLSFIw+",
      "include_colab_link": true
    },
    "kernelspec": {
      "name": "python3",
      "display_name": "Python 3"
    },
    "language_info": {
      "name": "python"
    }
  },
  "cells": [
    {
      "cell_type": "markdown",
      "metadata": {
        "id": "view-in-github",
        "colab_type": "text"
      },
      "source": [
        "<a href=\"https://colab.research.google.com/github/SUKH2255/study/blob/master/Lecture7.ipynb\" target=\"_parent\"><img src=\"https://colab.research.google.com/assets/colab-badge.svg\" alt=\"Open In Colab\"/></a>"
      ]
    },
    {
      "cell_type": "code",
      "execution_count": null,
      "metadata": {
        "id": "MNUhyRQ50at-"
      },
      "outputs": [],
      "source": [
        "xfile= open('mbox.txt')\n",
        "for cheese in xfile:\n",
        " print(cheese)"
      ]
    },
    {
      "cell_type": "code",
      "source": [
        "fhand= open('mbox.txt')\n",
        "count= 0\n",
        "forlineinfhand:\n",
        "count= count+ 1\n",
        "print('Line Count:', count)"
      ],
      "metadata": {
        "id": "iaKqUQYQ1D7o"
      },
      "execution_count": null,
      "outputs": []
    },
    {
      "cell_type": "code",
      "source": [
        "fhand= open('mbox-short.txt')\n",
        "forlineinfhand:\n",
        "ifline.startswith('From:') :\n",
        "print(line)"
      ],
      "metadata": {
        "id": "aLFZMFg41Jp1"
      },
      "execution_count": null,
      "outputs": []
    },
    {
      "cell_type": "code",
      "source": [
        "fname= input('Enter the file name: ')\n",
        "fhand= open(fname)\n",
        "count= 0\n",
        "forlineinfhand:\n",
        "if line.startswith('Subject:') :\n",
        "count= count+ 1\n",
        "print('There were', count, 'subject lines in', fname)"
      ],
      "metadata": {
        "id": "UM0D42O21Qa2"
      },
      "execution_count": null,
      "outputs": []
    }
  ]
}