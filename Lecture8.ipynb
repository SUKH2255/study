{
  "nbformat": 4,
  "nbformat_minor": 0,
  "metadata": {
    "colab": {
      "provenance": [],
      "authorship_tag": "ABX9TyOgMKdAnOuy8V5fKU1YTWA0",
      "include_colab_link": true
    },
    "kernelspec": {
      "name": "python3",
      "display_name": "Python 3"
    },
    "language_info": {
      "name": "python"
    }
  },
  "cells": [
    {
      "cell_type": "markdown",
      "metadata": {
        "id": "view-in-github",
        "colab_type": "text"
      },
      "source": [
        "<a href=\"https://colab.research.google.com/github/SUKH2255/study/blob/master/Lecture8.ipynb\" target=\"_parent\"><img src=\"https://colab.research.google.com/assets/colab-badge.svg\" alt=\"Open In Colab\"/></a>"
      ]
    },
    {
      "cell_type": "code",
      "execution_count": 2,
      "metadata": {
        "id": "4Zq5yibd1gHe",
        "colab": {
          "base_uri": "https://localhost:8080/"
        },
        "outputId": "114763d9-3243-4d68-e939-bb158427d010"
      },
      "outputs": [
        {
          "output_type": "stream",
          "name": "stdout",
          "text": [
            "5\n",
            "4\n",
            "3\n",
            "2\n",
            "1\n",
            "Blastoff!\n"
          ]
        }
      ],
      "source": [
        "for i in [5, 4, 3, 2, 1] :\n",
        " print(i)\n",
        "print('Blastoff!')"
      ]
    },
    {
      "cell_type": "code",
      "source": [
        "friends= ['Joseph', 'Glenn', 'Sally']\n",
        "for friend in friends :\n",
        " print('Happy New Year:', friend)\n",
        "print('Done!')\n",
        "\n",
        "z = ['Joseph', 'Glenn', 'Sally']\n",
        "for x in z:\n",
        " print('Happy New Year:', x)\n",
        "print('Done!')"
      ],
      "metadata": {
        "colab": {
          "base_uri": "https://localhost:8080/"
        },
        "id": "15YTji8u2ain",
        "outputId": "67aca428-031f-4188-841b-f5af81c722ad"
      },
      "execution_count": 3,
      "outputs": [
        {
          "output_type": "stream",
          "name": "stdout",
          "text": [
            "Happy New Year: Joseph\n",
            "Happy New Year: Glenn\n",
            "Happy New Year: Sally\n",
            "Done!\n",
            "Happy New Year: Joseph\n",
            "Happy New Year: Glenn\n",
            "Happy New Year: Sally\n",
            "Done!\n"
          ]
        }
      ]
    },
    {
      "cell_type": "code",
      "source": [
        "friends= [ 'Joseph', 'Glenn', 'Sally' ]\n",
        "print(friends[1])"
      ],
      "metadata": {
        "colab": {
          "base_uri": "https://localhost:8080/"
        },
        "id": "ruRNQv9A2sy1",
        "outputId": "22e8e646-45cd-4c6a-f9dd-358d90dfbb84"
      },
      "execution_count": 4,
      "outputs": [
        {
          "output_type": "stream",
          "name": "stdout",
          "text": [
            "Glenn\n"
          ]
        }
      ]
    },
    {
      "cell_type": "code",
      "source": [
        "greet= 'Hello Bob'\n",
        "print(len(greet))\n",
        "\n",
        "x= [ 1, 2, 'joe', 99]\n",
        "print(len(x))\n",
        "4"
      ],
      "metadata": {
        "colab": {
          "base_uri": "https://localhost:8080/"
        },
        "id": "_z6Nkwxr20I0",
        "outputId": "e3a49de2-3fe7-4d83-9ce1-fc5da0eff713"
      },
      "execution_count": 5,
      "outputs": [
        {
          "output_type": "stream",
          "name": "stdout",
          "text": [
            "9\n",
            "4\n"
          ]
        },
        {
          "output_type": "execute_result",
          "data": {
            "text/plain": [
              "4"
            ]
          },
          "metadata": {},
          "execution_count": 5
        }
      ]
    },
    {
      "cell_type": "code",
      "source": [
        "friends= ['Joseph', 'Glenn', 'Sally']\n",
        "for friend in friends :\n",
        " print('Happy New Year:', friend)\n",
        "for i in range(len(friends)) :\n",
        " friend= friends[i]\n",
        "print('Happy New Year:', friend)"
      ],
      "metadata": {
        "colab": {
          "base_uri": "https://localhost:8080/"
        },
        "id": "3fHvPeOA3Fgt",
        "outputId": "be5e2d04-3d6b-4d02-b54c-7cf94dcdf19b"
      },
      "execution_count": 6,
      "outputs": [
        {
          "output_type": "stream",
          "name": "stdout",
          "text": [
            "Happy New Year: Joseph\n",
            "Happy New Year: Glenn\n",
            "Happy New Year: Sally\n",
            "Happy New Year: Sally\n"
          ]
        }
      ]
    },
    {
      "cell_type": "code",
      "source": [
        "x= list()\n",
        "type(x)\n",
        "<type 'list'>\n",
        "dir(x)\n",
        "['append', 'count', 'extend', 'index', 'insert',\n",
        "'pop', 'remove', 'reverse', 'sort']\n"
      ],
      "metadata": {
        "id": "JAvA-ewB3TJ2"
      },
      "execution_count": null,
      "outputs": []
    },
    {
      "cell_type": "code",
      "source": [
        "abc='With three words'\n",
        "stuff=abc.split()\n",
        "print(stuff)\n",
        "['With', 'three', 'words']\n",
        "print(len(stuff))\n",
        "print(stuff[0])"
      ],
      "metadata": {
        "id": "-8dTb8Ay3jDc"
      },
      "execution_count": null,
      "outputs": []
    },
    {
      "cell_type": "code",
      "source": [
        "line = 'A lot of spaces'\n",
        "etc = line.split()\n",
        "print(etc)\n",
        "['A', 'lot', 'of', 'spaces']\n",
        "\n",
        "line = 'first;second;third'\n",
        "thing = line.split()\n",
        "print(thing)\n",
        "['first;second;third']\n",
        "print(len(thing))\n",
        "thing = line.split(';')\n",
        "print(thing)\n",
        "['first', 'second', 'third']\n",
        "print(len(thing))"
      ],
      "metadata": {
        "colab": {
          "base_uri": "https://localhost:8080/"
        },
        "id": "9jijgmJf39B0",
        "outputId": "ed45dd5e-18b7-42cd-f363-2c97eea83c63"
      },
      "execution_count": 7,
      "outputs": [
        {
          "output_type": "stream",
          "name": "stdout",
          "text": [
            "['A', 'lot', 'of', 'spaces']\n",
            "['first;second;third']\n",
            "1\n",
            "['first', 'second', 'third']\n",
            "3\n"
          ]
        }
      ]
    },
    {
      "cell_type": "code",
      "source": [
        "fhand= open('mbox-short.txt')\n",
        "for line in fhand:\n",
        " line= line.rstrip()\n",
        "if not line.startswith('From ') : continue\n",
        "words= line.split()\n",
        "print(words[2])"
      ],
      "metadata": {
        "id": "IYe1ABqX4i_O"
      },
      "execution_count": null,
      "outputs": []
    },
    {
      "cell_type": "code",
      "source": [
        "words = line.split()\n",
        "email= words[1]\n",
        "pieces= email.split('@')\n",
        "print(pieces[1])"
      ],
      "metadata": {
        "id": "XHGmD3d95DWs"
      },
      "execution_count": null,
      "outputs": []
    }
  ]
}