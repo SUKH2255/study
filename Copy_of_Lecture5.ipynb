{
  "nbformat": 4,
  "nbformat_minor": 0,
  "metadata": {
    "colab": {
      "provenance": [],
      "authorship_tag": "ABX9TyM1srUVXNqgNT2W6P/TRPBf",
      "include_colab_link": true
    },
    "kernelspec": {
      "name": "python3",
      "display_name": "Python 3"
    },
    "language_info": {
      "name": "python"
    }
  },
  "cells": [
    {
      "cell_type": "markdown",
      "metadata": {
        "id": "view-in-github",
        "colab_type": "text"
      },
      "source": [
        "<a href=\"https://colab.research.google.com/github/SUKH2255/study/blob/master/Copy_of_Lecture5.ipynb\" target=\"_parent\"><img src=\"https://colab.research.google.com/assets/colab-badge.svg\" alt=\"Open In Colab\"/></a>"
      ]
    },
    {
      "cell_type": "code",
      "execution_count": null,
      "metadata": {
        "colab": {
          "base_uri": "https://localhost:8080/"
        },
        "id": "talWc6WXppfm",
        "outputId": "4c1a6e21-d0eb-456e-d867-22945386aada"
      },
      "outputs": [
        {
          "output_type": "stream",
          "name": "stdout",
          "text": [
            "5\n",
            "4\n",
            "3\n",
            "2\n",
            "1\n",
            "Blastoff!\n",
            "0\n"
          ]
        }
      ],
      "source": [
        "n=5\n",
        "while n>0:\n",
        " print(n)\n",
        " n = n-1\n",
        "print('Blastoff!')\n",
        "print(n)"
      ]
    },
    {
      "cell_type": "code",
      "source": [
        "n=0\n",
        "while n>0:\n",
        " print('Lather')\n",
        "print('Rinse')\n",
        "print('Dry off!')"
      ],
      "metadata": {
        "id": "9VW9FFE6qjA4"
      },
      "execution_count": null,
      "outputs": []
    },
    {
      "cell_type": "code",
      "source": [
        "while True:\n",
        " line=input('> ')\n",
        "if line=='done':\n",
        "    break\n",
        "print(line)\n",
        "print('Done!')"
      ],
      "metadata": {
        "id": "uAKTL_OGtwFA"
      },
      "execution_count": null,
      "outputs": []
    },
    {
      "cell_type": "code",
      "source": [
        "while True:\n",
        " line=input('> ')\n",
        "ifline[0]== '#':\n",
        "continue\n",
        "if line=='done':\n",
        "break\n",
        "print(line)\n",
        "print('Done!')"
      ],
      "metadata": {
        "id": "maepOAo_ub2Y"
      },
      "execution_count": null,
      "outputs": []
    },
    {
      "cell_type": "code",
      "source": [
        "for i in [5, 4, 3, 2, 1] :\n",
        " print(i)\n",
        "print('Blastoff!')"
      ],
      "metadata": {
        "colab": {
          "base_uri": "https://localhost:8080/"
        },
        "id": "ewzTe0QAuyHn",
        "outputId": "29ee513b-ff79-4dad-85fb-67908aec7579"
      },
      "execution_count": null,
      "outputs": [
        {
          "output_type": "stream",
          "name": "stdout",
          "text": [
            "5\n",
            "4\n",
            "3\n",
            "2\n",
            "1\n",
            "Blastoff!\n"
          ]
        }
      ]
    },
    {
      "cell_type": "code",
      "source": [
        "friends= ['Joseph', 'Glenn', 'Sally']\n",
        "for friend in friends :\n",
        " print('Happy New Year:', friend)\n",
        "print('Done!')"
      ],
      "metadata": {
        "colab": {
          "base_uri": "https://localhost:8080/"
        },
        "id": "m-GgoXsCu2DP",
        "outputId": "9b439948-968f-4c21-8ce5-53e9ac8dd5e5"
      },
      "execution_count": null,
      "outputs": [
        {
          "output_type": "stream",
          "name": "stdout",
          "text": [
            "Happy New Year: Joseph\n",
            "Happy New Year: Glenn\n",
            "Happy New Year: Sally\n",
            "Done!\n"
          ]
        }
      ]
    },
    {
      "cell_type": "code",
      "source": [
        "print('Before')\n",
        "for thing in [9, 41, 12, 3, 74, 15] :\n",
        " print(thing)\n",
        "print('After')"
      ],
      "metadata": {
        "colab": {
          "base_uri": "https://localhost:8080/"
        },
        "id": "5xqw6YPCvXD4",
        "outputId": "65dd3cc5-65e1-4529-c7bc-b2c9888eb007"
      },
      "execution_count": null,
      "outputs": [
        {
          "output_type": "stream",
          "name": "stdout",
          "text": [
            "Before\n",
            "9\n",
            "41\n",
            "12\n",
            "3\n",
            "74\n",
            "15\n",
            "After\n"
          ]
        }
      ]
    },
    {
      "cell_type": "code",
      "source": [
        "largest_so_far= -1\n",
        "print('Before', largest_so_far)\n",
        "for the_num in [9, 41, 12, 3, 74, 15] :\n",
        " if the_num > largest_so_far:\n",
        "  largest_so_far= the_num\n",
        "print(largest_so_far, the_num)\n",
        "print('After', largest_so_far)"
      ],
      "metadata": {
        "colab": {
          "base_uri": "https://localhost:8080/"
        },
        "id": "sUzcVdH1vgU_",
        "outputId": "9861871d-e874-4c9c-b170-3bbe742f19c0"
      },
      "execution_count": null,
      "outputs": [
        {
          "output_type": "stream",
          "name": "stdout",
          "text": [
            "Before -1\n",
            "74 15\n",
            "After 74\n"
          ]
        }
      ]
    },
    {
      "cell_type": "code",
      "source": [
        "zork = 0\n",
        "print('Before', zork)\n",
        "for thing in [9, 41, 12, 3, 74, 15] :\n",
        " zork = zork + 1\n",
        "print(zork, thing)\n",
        "print('After', zork)"
      ],
      "metadata": {
        "colab": {
          "base_uri": "https://localhost:8080/"
        },
        "id": "N2n5_zHWvpRu",
        "outputId": "2990991c-0f7b-4a24-9702-05cac6ab0d0d"
      },
      "execution_count": null,
      "outputs": [
        {
          "output_type": "stream",
          "name": "stdout",
          "text": [
            "Before 0\n",
            "6 15\n",
            "After 6\n"
          ]
        }
      ]
    },
    {
      "cell_type": "code",
      "source": [
        "zork = 0\n",
        "print('Before', zork)\n",
        "for thing in [9, 41, 12, 3, 74, 15] :\n",
        " zork = zork + thing\n",
        "print(zork, thing)\n",
        "print('After', zork)"
      ],
      "metadata": {
        "colab": {
          "base_uri": "https://localhost:8080/"
        },
        "id": "ovbYmqqQv693",
        "outputId": "5c986d2d-3df8-4e8c-dd9b-b85b1c0631c1"
      },
      "execution_count": null,
      "outputs": [
        {
          "output_type": "stream",
          "name": "stdout",
          "text": [
            "Before 0\n",
            "154 15\n",
            "After 154\n"
          ]
        }
      ]
    },
    {
      "cell_type": "code",
      "source": [
        "count = 0\n",
        "sum = 0\n",
        "print('Before', count, sum)\n",
        "for value in [9, 41, 12, 3, 74, 15] :\n",
        " count = count + 1\n",
        "sum = sum + value\n",
        "print(count, sum, value)\n",
        "print('After', count, sum, sum / count)"
      ],
      "metadata": {
        "colab": {
          "base_uri": "https://localhost:8080/"
        },
        "id": "liMSLHK9wEYH",
        "outputId": "05dad8e9-f13e-4283-8a4c-93d1b7554581"
      },
      "execution_count": null,
      "outputs": [
        {
          "output_type": "stream",
          "name": "stdout",
          "text": [
            "Before 0 0\n",
            "6 15 15\n",
            "After 6 15 2.5\n"
          ]
        }
      ]
    },
    {
      "cell_type": "code",
      "source": [
        "largest_so_far= -1\n",
        "print('Before', largest_so_far)\n",
        "for the_num in [9, 41, 12, 3, 74, 15] :\n",
        " if the_num > largest_so_far:\n",
        "  largest_so_far= the_num\n",
        "print(largest_so_far, the_num)\n",
        "print('After', largest_so_far)"
      ],
      "metadata": {
        "colab": {
          "base_uri": "https://localhost:8080/"
        },
        "id": "kWSJjvyiwLL_",
        "outputId": "6f408dcd-c9a6-4131-e91a-dfac46d9a8b7"
      },
      "execution_count": null,
      "outputs": [
        {
          "output_type": "stream",
          "name": "stdout",
          "text": [
            "Before -1\n",
            "74 15\n",
            "After 74\n"
          ]
        }
      ]
    },
    {
      "cell_type": "code",
      "source": [
        "smallest = None\n",
        "print('Before')\n",
        "for value in [3, 41, 12, 9, 74, 15] :\n",
        " if smallest is None :\n",
        "  smallest = value\n",
        "elif value < smallest :\n",
        "smallest = value\n",
        "print(smallest, value)\n",
        "print('After', smallest)"
      ],
      "metadata": {
        "id": "SDBYUZp0wVRH"
      },
      "execution_count": null,
      "outputs": []
    }
  ]
}