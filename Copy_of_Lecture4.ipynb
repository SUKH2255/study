{
  "nbformat": 4,
  "nbformat_minor": 0,
  "metadata": {
    "colab": {
      "provenance": [],
      "authorship_tag": "ABX9TyO/8HFSm8MrhhMED2Mtm+Tp",
      "include_colab_link": true
    },
    "kernelspec": {
      "name": "python3",
      "display_name": "Python 3"
    },
    "language_info": {
      "name": "python"
    }
  },
  "cells": [
    {
      "cell_type": "markdown",
      "metadata": {
        "id": "view-in-github",
        "colab_type": "text"
      },
      "source": [
        "<a href=\"https://colab.research.google.com/github/SUKH2255/study/blob/master/Copy_of_Lecture4.ipynb\" target=\"_parent\"><img src=\"https://colab.research.google.com/assets/colab-badge.svg\" alt=\"Open In Colab\"/></a>"
      ]
    },
    {
      "cell_type": "code",
      "execution_count": null,
      "metadata": {
        "colab": {
          "base_uri": "https://localhost:8080/"
        },
        "id": "9KivIor4llkC",
        "outputId": "82600294-7ba2-4e93-c502-c45fc8658951"
      },
      "outputs": [
        {
          "output_type": "stream",
          "name": "stdout",
          "text": [
            "Hello\n",
            "Fun\n",
            "Zip\n",
            "Hello\n",
            "Fun\n"
          ]
        }
      ],
      "source": [
        "def thing():\n",
        "    print('Hello')\n",
        "    print('Fun')\n",
        "thing()\n",
        "print('Zip')\n",
        "thing()"
      ]
    },
    {
      "cell_type": "code",
      "source": [
        "x= 5\n",
        "print('Hello')\n",
        "def print_lyrics():\n",
        "     print(\"I'm a lumberjack, and I'm okay.\")\n",
        "print('I sleep all night and I work all day.')\n",
        "print('Yo')\n",
        "x= x+2\n",
        "print(x)"
      ],
      "metadata": {
        "colab": {
          "base_uri": "https://localhost:8080/"
        },
        "id": "cL-55NpEmC_O",
        "outputId": "07498a5d-0bb7-4289-f9eb-5b1e70288401"
      },
      "execution_count": null,
      "outputs": [
        {
          "output_type": "stream",
          "name": "stdout",
          "text": [
            "Hello\n",
            "I sleep all night and I work all day.\n",
            "Yo\n",
            "7\n"
          ]
        }
      ]
    },
    {
      "cell_type": "code",
      "source": [
        "x= 5\n",
        "print('Hello')\n",
        "def print_lyrics():\n",
        "     print(\"I'm a lumberjack, and I'm okay.\")\n",
        "print('I sleep all night and I work all day.')\n",
        "print('Yo')\n",
        "print_lyrics()\n",
        "x= x+2\n",
        "print(x)"
      ],
      "metadata": {
        "colab": {
          "base_uri": "https://localhost:8080/"
        },
        "id": "EUY8LRH5mN3i",
        "outputId": "4f1e3bb6-7360-46b2-ca0f-7853e1c1004f"
      },
      "execution_count": null,
      "outputs": [
        {
          "output_type": "stream",
          "name": "stdout",
          "text": [
            "Hello\n",
            "I sleep all night and I work all day.\n",
            "Yo\n",
            "I'm a lumberjack, and I'm okay.\n",
            "7\n"
          ]
        }
      ]
    },
    {
      "cell_type": "code",
      "source": [
        "def greet(lang):\n",
        " if lang == 'es':\n",
        "      print('Hola')\n",
        " elif lang == 'fr':\n",
        "        print('Bonjour')\n",
        " else:\n",
        "     print('Hello')"
      ],
      "metadata": {
        "id": "lxoXK_EOmXwK"
      },
      "execution_count": null,
      "outputs": []
    },
    {
      "cell_type": "code",
      "source": [
        "def greet():\n",
        " return \"Hello\"\n",
        "print(greet(), \"Glenn\")\n",
        "print(greet(), \"Sally\")"
      ],
      "metadata": {
        "colab": {
          "base_uri": "https://localhost:8080/"
        },
        "id": "0c-0-tbTnDpi",
        "outputId": "37ead2d0-a516-424c-a678-fb2897116840"
      },
      "execution_count": null,
      "outputs": [
        {
          "output_type": "stream",
          "name": "stdout",
          "text": [
            "Hello Glenn\n",
            "Hello Sally\n"
          ]
        }
      ]
    },
    {
      "cell_type": "code",
      "source": [
        "def addtwo(a, b):\n",
        "  added = a+ b\n",
        "  return added\n",
        "  x = addtwo(3, 5)\n",
        "  print(x)"
      ],
      "metadata": {
        "id": "OXcM2LecnNtc"
      },
      "execution_count": null,
      "outputs": []
    },
    {
      "cell_type": "code",
      "source": [
        "def computepay(hours, rate):\n",
        "    if hours <= 40:\n",
        "        pay = hours * rate\n",
        "    else:\n",
        "        regular_hours = 40\n",
        "        overtime_hours = hours - 40\n",
        "        pay = (regular_hours * rate) + (overtime_hours * 1.5 * rate)\n",
        "    return pay\n",
        "\n",
        "try:\n",
        "    hours = float(input(\"Enter Hours: \"))\n",
        "    rate = float(input(\"Enter Rate: \"))\n",
        "    total_pay = computepay(hours, rate)\n",
        "    print(\"Pay:\", total_pay)\n",
        "except ValueError:\n",
        "    print(\"Please enter valid numeric input for hours and rate.\")\n"
      ],
      "metadata": {
        "colab": {
          "base_uri": "https://localhost:8080/"
        },
        "id": "hueSaYvynxLa",
        "outputId": "7918cd13-5dd1-46b5-ed53-8c7713c11868"
      },
      "execution_count": null,
      "outputs": [
        {
          "output_type": "stream",
          "name": "stdout",
          "text": [
            "Enter Hours: 14\n",
            "Enter Rate: 555\n",
            "Pay: 7770.0\n"
          ]
        }
      ]
    }
  ]
}