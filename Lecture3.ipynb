{
  "nbformat": 4,
  "nbformat_minor": 0,
  "metadata": {
    "colab": {
      "provenance": [],
      "authorship_tag": "ABX9TyN/hhoHrusE7V5ovIBjIu7b",
      "include_colab_link": true
    },
    "kernelspec": {
      "name": "python3",
      "display_name": "Python 3"
    },
    "language_info": {
      "name": "python"
    }
  },
  "cells": [
    {
      "cell_type": "markdown",
      "metadata": {
        "id": "view-in-github",
        "colab_type": "text"
      },
      "source": [
        "<a href=\"https://colab.research.google.com/github/SUKH2255/study/blob/master/Lecture3.ipynb\" target=\"_parent\"><img src=\"https://colab.research.google.com/assets/colab-badge.svg\" alt=\"Open In Colab\"/></a>"
      ]
    },
    {
      "cell_type": "code",
      "source": [
        "x = 5\n",
        "if x < 10:\n",
        " print('Smaller')\n",
        "if x > 20:\n",
        " print('Bigger')\n",
        "print('Finis')"
      ],
      "metadata": {
        "colab": {
          "base_uri": "https://localhost:8080/"
        },
        "id": "bvjE9Uycl8ck",
        "outputId": "4124f4e2-ec33-408f-94b2-29f0245c190c"
      },
      "execution_count": null,
      "outputs": [
        {
          "output_type": "stream",
          "name": "stdout",
          "text": [
            "Smaller\n",
            "Finis\n"
          ]
        }
      ]
    },
    {
      "cell_type": "code",
      "source": [
        "x = 5\n",
        "if x == 5 :\n",
        " print('Equals 5')\n",
        "if x > 4 :\n",
        " print('Greater than 4')\n",
        "if x >= 5 :\n",
        " print('Greater than or Equals 5')\n",
        "if x < 6 : print('Less than 6')\n",
        "if x <= 5 :\n",
        " print('Less than or Equals 5')\n",
        "if x != 6 :\n",
        " print('Not equal 6')"
      ],
      "metadata": {
        "colab": {
          "base_uri": "https://localhost:8080/"
        },
        "id": "1Ji6C0gnmFDU",
        "outputId": "ebe5b573-d3ce-4984-9462-c335a92d66fa"
      },
      "execution_count": null,
      "outputs": [
        {
          "output_type": "stream",
          "name": "stdout",
          "text": [
            "Equals 5\n",
            "Greater than 4\n",
            "Greater than or Equals 5\n",
            "Less than 6\n",
            "Less than or Equals 5\n",
            "Not equal 6\n"
          ]
        }
      ]
    },
    {
      "cell_type": "code",
      "source": [
        "x = 5\n",
        "print('Before 5')\n",
        "if x == 5 :\n",
        " print('Is 5')\n",
        "print('Is Still 5')\n",
        "print('Third 5')\n",
        "print('Afterwards 5')\n",
        "print('Before 6')\n",
        "if x == 6 :\n",
        " print('Is 6')\n",
        "print('Is Still 6')\n",
        "print('Third 6')\n",
        "print('Afterwards 6')"
      ],
      "metadata": {
        "colab": {
          "base_uri": "https://localhost:8080/"
        },
        "id": "vc4GvKPVmRnU",
        "outputId": "3370289a-2e78-44af-8676-e22255ccb993"
      },
      "execution_count": null,
      "outputs": [
        {
          "output_type": "stream",
          "name": "stdout",
          "text": [
            "Before 5\n",
            "Is 5\n",
            "Is Still 5\n",
            "Third 5\n",
            "Afterwards 5\n",
            "Before 6\n",
            "Is Still 6\n",
            "Third 6\n",
            "Afterwards 6\n"
          ]
        }
      ]
    },
    {
      "cell_type": "code",
      "source": [
        "x = 42\n",
        "if x > 1 :\n",
        " print('More than one')\n",
        "if x < 100 :\n",
        " print('Less than 100')\n",
        "print('All done')"
      ],
      "metadata": {
        "colab": {
          "base_uri": "https://localhost:8080/"
        },
        "id": "iRwhjuF6mbC7",
        "outputId": "af409b14-db56-4433-b050-1221cf6807cc"
      },
      "execution_count": null,
      "outputs": [
        {
          "output_type": "stream",
          "name": "stdout",
          "text": [
            "More than one\n",
            "Less than 100\n",
            "All done\n"
          ]
        }
      ]
    },
    {
      "cell_type": "code",
      "source": [
        "ifx < 2 :\n",
        "print('small')\n",
        "elifx < 10 :\n",
        "print('Medium')\n",
        "else:\n",
        "print('LARGE')\n",
        "print('All done')"
      ],
      "metadata": {
        "id": "mbflWyNqmd1D"
      },
      "execution_count": null,
      "outputs": []
    },
    {
      "cell_type": "code",
      "source": [
        "x = 5\n",
        "if x < 2 :\n",
        " print('Small')\n",
        "elif x < 10 :\n",
        " print('Medium')\n",
        "print('All done')"
      ],
      "metadata": {
        "colab": {
          "base_uri": "https://localhost:8080/"
        },
        "id": "xoYMSoj2nGKD",
        "outputId": "3692c3e2-5bb6-43d2-dea0-e18549b70111"
      },
      "execution_count": null,
      "outputs": [
        {
          "output_type": "stream",
          "name": "stdout",
          "text": [
            "Medium\n",
            "All done\n"
          ]
        }
      ]
    },
    {
      "cell_type": "code",
      "source": [
        "astr= 'Hello Bob'\n",
        "try:\n",
        "istr= int(astr)\n",
        "except:\n",
        "istr= -1\n",
        "print('First', istr)\n",
        "astr= '123'\n",
        "try:\n",
        "istr= int(astr)\n",
        "except:\n",
        "istr= -1\n",
        "print('Second', istr)"
      ],
      "metadata": {
        "id": "D5v_93xtnSE1"
      },
      "execution_count": null,
      "outputs": []
    }
  ]
}